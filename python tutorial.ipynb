{
 "cells": [
  {
   "cell_type": "markdown",
   "id": "dcc5d925",
   "metadata": {},
   "source": [
    "**write a program for even number**"
   ]
  },
  {
   "cell_type": "code",
   "execution_count": 6,
   "id": "840be5fa",
   "metadata": {},
   "outputs": [
    {
     "name": "stdout",
     "output_type": "stream",
     "text": [
      "frist no=1\n",
      "frist no=20\n",
      "2 4 6 8 10 12 14 16 18 20 "
     ]
    }
   ],
   "source": [
    "a=int(input(\"frist no=\"))\n",
    "b=int(input(\"frist no=\"))\n",
    "for i in range (a,b +1):\n",
    "    if i%2==0:\n",
    "        print(i,end=\" \")"
   ]
  },
  {
   "cell_type": "markdown",
   "id": "45a5d0e2",
   "metadata": {},
   "source": [
    "**write a program for even number**"
   ]
  },
  {
   "cell_type": "code",
   "execution_count": 8,
   "id": "43e3d0aa",
   "metadata": {},
   "outputs": [
    {
     "name": "stdout",
     "output_type": "stream",
     "text": [
      "frist no = 1\n",
      "second no =20\n",
      "2\n",
      "4\n",
      "6\n",
      "8\n",
      "10\n",
      "12\n",
      "14\n",
      "16\n",
      "18\n",
      "20\n"
     ]
    }
   ],
   "source": [
    "a= int(input(\"frist no = \"))\n",
    "b= int(input(\"second no =\"))\n",
    "for m in range(a, b + 1):\n",
    "    if m % 2 == 0:\n",
    "        print(m, end=\"\\n\")\n"
   ]
  },
  {
   "cell_type": "markdown",
   "id": "b381e90c",
   "metadata": {},
   "source": [
    "**write a program for even in new line number**"
   ]
  },
  {
   "cell_type": "code",
   "execution_count": 9,
   "id": "d0718c70",
   "metadata": {},
   "outputs": [
    {
     "name": "stdout",
     "output_type": "stream",
     "text": [
      "frist no = 10\n",
      "second no =20\n",
      "10\n",
      "12\n",
      "14\n",
      "16\n",
      "18\n",
      "20\n"
     ]
    }
   ],
   "source": [
    "a= int(input(\"frist no = \"))\n",
    "b= int(input(\"second no =\"))\n",
    "for m in range(a, b + 1):\n",
    "    if m % 2 == 0:\n",
    "        print(m)\n"
   ]
  },
  {
   "cell_type": "markdown",
   "id": "2ea9a7af",
   "metadata": {},
   "source": [
    "**write a program for odd number**"
   ]
  },
  {
   "cell_type": "code",
   "execution_count": 2,
   "id": "ada269af",
   "metadata": {},
   "outputs": [
    {
     "name": "stdout",
     "output_type": "stream",
     "text": [
      "frist no=1\n",
      "second no=20\n",
      "1 3 5 7 9 11 13 15 17 19 "
     ]
    }
   ],
   "source": [
    "a=int(input(\"frist no=\"))\n",
    "b=int(input(\"second no=\"))\n",
    "for i in range (a,b +1):\n",
    "    if i % 2!= 0:\n",
    "        print(i,end=\" \")"
   ]
  },
  {
   "cell_type": "markdown",
   "id": "11b2431c",
   "metadata": {},
   "source": [
    "**write a program for odd in new line number**"
   ]
  },
  {
   "cell_type": "code",
   "execution_count": 10,
   "id": "a24db0b4",
   "metadata": {},
   "outputs": [
    {
     "name": "stdout",
     "output_type": "stream",
     "text": [
      "frist no=10\n",
      "second no=30\n",
      "10\n",
      "12\n",
      "14\n",
      "16\n",
      "18\n",
      "20\n",
      "22\n",
      "24\n",
      "26\n",
      "28\n",
      "30\n"
     ]
    }
   ],
   "source": [
    "x=int(input(\"frist no=\"))\n",
    "y=int(input(\"second no=\"))\n",
    "for i in range(x,y+1,2):\n",
    "        print(i)\n"
   ]
  },
  {
   "cell_type": "code",
   "execution_count": null,
   "id": "d3a49b53",
   "metadata": {},
   "outputs": [],
   "source": []
  },
  {
   "cell_type": "code",
   "execution_count": null,
   "id": "deae628a",
   "metadata": {},
   "outputs": [],
   "source": []
  }
 ],
 "metadata": {
  "kernelspec": {
   "display_name": "Python 3 (ipykernel)",
   "language": "python",
   "name": "python3"
  },
  "language_info": {
   "codemirror_mode": {
    "name": "ipython",
    "version": 3
   },
   "file_extension": ".py",
   "mimetype": "text/x-python",
   "name": "python",
   "nbconvert_exporter": "python",
   "pygments_lexer": "ipython3",
   "version": "3.7.6"
  }
 },
 "nbformat": 4,
 "nbformat_minor": 5
}
