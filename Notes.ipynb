{
 "cells": [
  {
   "cell_type": "markdown",
   "id": "7977a686",
   "metadata": {},
   "source": [
    "<div class=\"alert alert-block alert-info\"># Python notes </div>"
   ]
  },
  {
   "cell_type": "markdown",
   "id": "d6d76e85",
   "metadata": {},
   "source": [
    "## 1. Data Type"
   ]
  },
  {
   "cell_type": "markdown",
   "id": "49ccf58a",
   "metadata": {},
   "source": [
    "**Basic data Type**\n",
    "\n",
    "1  ---> Int data type  \n",
    "1.5 ----> Float data type  \n",
    "\"Manish Kumar\" ---> String data type  \n",
    "True / False  ----> Boolean data type  \n",
    "\n",
    "**Advance data Type**  \n",
    "\n",
    "[1, 1.5, \"Manish\", 1]  ---> List data Type  \n",
    "(1, 1.5, \"Manish\", 1)  ---> tuple data Type  \n",
    "{1, 1.5, \"Manish\"}   -----> Set data type  \n",
    "{\"Manish\" : \"7296000135\" , \"Ravi\": \"6201881238\"}  ----> Dictionary Data Type  "
   ]
  },
  {
   "cell_type": "markdown",
   "id": "6c15c226",
   "metadata": {},
   "source": [
    "## 2. Variable "
   ]
  },
  {
   "cell_type": "markdown",
   "id": "51b4c218",
   "metadata": {},
   "source": [
    "Variable means a container in which we store some values , and value can be different data types.  \n",
    "\n",
    "E.G :-  "
   ]
  },
  {
   "cell_type": "code",
   "execution_count": 1,
   "id": "a4fad398",
   "metadata": {},
   "outputs": [],
   "source": [
    "a = 1   # Iska matlb ye hai ye variable 'a' me ek int type ka data rakha hai jiska value 1 hai.\n",
    "\n",
    "b = 1.5 # Iska matlb ye hai ye variable 'b' me ek float type ka data rakha hai jiska value 1.5 hai.\n",
    "\n",
    "c = \"Manish Kumar\" # Iska matlb ye hai ye variable 'c' me ek string type\n",
    "                    #ka data rakha hai jiska value \"Manish Kumar\" hai.\n",
    "    \n",
    "d = True  # Iska matlb ye hai ye variable 'd' me ek boolean \n",
    "            #type ka data rakha hai jiska value True hai.\n",
    "\n",
    "# variable of  Advance data type \n",
    "\n",
    "arr = [1, 1.5, \"Manish\", 1]  # Iska matlb ye hai ki variable 'arr' me ek list type ka data stored hai\n",
    "\n",
    "arr2 = (1, 1.5, \"Manish\", 1) # Iska matlb ye hai ki variable 'arr2' me ek tuple \n",
    "                            # type ka data stored hai.\n",
    "\n",
    "s = {1, 1.5, \"Manish\"} # Iska matlb ye hai ki variable 's' me ek set type ka data stored hai.\n",
    "\n",
    "dict = {\"Manish\" : \"7296000135\" , \"Ravi\": \"6201881238\"} # Iska matlb ye hai ki variable 'dict' \n",
    "                                                        # me ek dictionary type ka data stored hai."
   ]
  },
  {
   "cell_type": "markdown",
   "id": "32e7736e",
   "metadata": {},
   "source": [
    "**Variable name banane ke Rules :-**"
   ]
  },
  {
   "cell_type": "markdown",
   "id": "f0e22835",
   "metadata": {},
   "source": [
    "1. Variable name ka starting letter alphabet hi hona chahiye na ki koi number, space, special character.\n",
    " - a = 0 ----> ye sahi hai\n",
    " - 1 = 0 ----> ye wrong hai  \n",
    " \n",
    "2. Variable name ke bich me ya kahi bhi space nahi hona chahiye. \n",
    " - total_number = 0  ----> ye sahi hai\n",
    " - total number = 0  ----> ye wrong hai  \n",
    " \n",
    "3. Variable number me kahi bhi Special character jaise ki \"@#.*$%!\" etc. kuch bhi nahi hona chahiye.\n",
    " - total#number = 0  ---> ye wrong hai\n",
    " - total_number = 0  ---> ye sahi hai   "
   ]
  },
  {
   "cell_type": "code",
   "execution_count": 4,
   "id": "900a8a03",
   "metadata": {},
   "outputs": [],
   "source": [
    "total_number = 0"
   ]
  },
  {
   "cell_type": "markdown",
   "id": "f316593f",
   "metadata": {},
   "source": [
    "### Input in Python"
   ]
  },
  {
   "cell_type": "markdown",
   "id": "d8e41548",
   "metadata": {},
   "source": [
    "Python me user input lene ke liye humlog input fuction ka use karte hain.  \n",
    "Syntax :-       \n",
    "input(\"Prompt\")      \n",
    "Lekin us user input ko store karne ke liye variable ke andar input lena hota hai     \n",
    "E.G : -  "
   ]
  },
  {
   "cell_type": "code",
   "execution_count": 18,
   "id": "a879d886",
   "metadata": {},
   "outputs": [
    {
     "name": "stdout",
     "output_type": "stream",
     "text": [
      "This is a integer input 1\n",
      "This is a float input 1.0\n",
      "This is a string input ravi\n",
      "Enter your integer with space separated 1 5\n"
     ]
    }
   ],
   "source": [
    "# Taking one Input in Single line\n",
    "\n",
    "integer_input = int(input(\"This is a integer input \"))\n",
    "float_input = float(input(\"This is a float input \"))\n",
    "string_input = str(input(\"This is a string input \"))\n",
    "\n",
    "# Taking 2 or more input in single line\n",
    "integer_input1, integer_input2 = map(int,input(\"Enter your integer with space separated \").split())\n"
   ]
  },
  {
   "cell_type": "markdown",
   "id": "e8500fe8",
   "metadata": {},
   "source": [
    "### Print in Python\n"
   ]
  },
  {
   "cell_type": "markdown",
   "id": "db94824e",
   "metadata": {},
   "source": [
    "Python me koi variable ya value print karne ke liye print() function ka use karte hain.  \n",
    "Syntax :- print()  \n",
    "E.G :-  \n"
   ]
  },
  {
   "cell_type": "code",
   "execution_count": 19,
   "id": "f54f8267",
   "metadata": {},
   "outputs": [
    {
     "name": "stdout",
     "output_type": "stream",
     "text": [
      "Hello World\n",
      "2\n"
     ]
    }
   ],
   "source": [
    "# Printing line by line\n",
    "a = 2\n",
    "print(\"Hello World\")\n",
    "print(a)"
   ]
  },
  {
   "cell_type": "code",
   "execution_count": 23,
   "id": "dcabc4e0",
   "metadata": {},
   "outputs": [
    {
     "name": "stdout",
     "output_type": "stream",
     "text": [
      "Hello_World 2\n",
      "Hello_World,2\n"
     ]
    }
   ],
   "source": [
    "# Printing in one line\n",
    "\n",
    "a = 2\n",
    "print(\"Hello_World\", end=\" \") #---> yaha space se separated hai\n",
    "print(a)\n",
    "\n",
    "print(\"Hello_World\", end=\",\") #---> yaha comma se separated hai\n",
    "print(a)\n",
    "\n",
    "# by default print new line se separated hota hai\n"
   ]
  },
  {
   "cell_type": "markdown",
   "id": "835f5874",
   "metadata": {},
   "source": [
    "# 3. Operator\n",
    "\n",
    "## Arithmetic Operators**\n",
    "\n",
    "Arithmetic operator humlog math ka  operation use karne ke  liye karte hain jaise ki +,-,*,/ etc.\n",
    "\n",
    "\n",
    "- operands :  x + y agar aisa likha hua hai to x or y operand hai or + operator hai\n",
    "\n"
   ]
  },
  {
   "cell_type": "code",
   "execution_count": 14,
   "id": "60071da6",
   "metadata": {},
   "outputs": [
    {
     "name": "stdout",
     "output_type": "stream",
     "text": [
      "Addition of x and y is  6\n",
      "Subtraction of x and y is  2\n",
      "Multiplication of x and y is  8\n",
      "Float division of x and y is  2.0\n",
      "Integer division of x and y is  2\n",
      "Modulus of x and y is  0\n",
      "Power of x to the y is  16\n"
     ]
    }
   ],
   "source": [
    "x = 4\n",
    "y = 2\n",
    "\n",
    "print(\"Addition of x and y is \", x+y)  # Addition of two operands or variable\n",
    "print(\"Subtraction of x and y is \", x-y)  # Subtraction of two operand or variable\n",
    "print(\"Multiplication of x and y is \", x*y) # Multiplication of two operand or variable\n",
    "print(\"Float division of x and y is \", x/y)  # Float division of two operand or variable\n",
    "print(\"Integer division of x and y is \", x//y) # Integer division of two operand or variable\n",
    "print(\"Modulus of x and y is \", x%y)  # Modulus operator remainder return karta hai jab\n",
    "                                      # x ko y se bhag dete hai\n",
    "print(\"Power of x to the y is \" , x**2) # x ka power y hai iska matlb"
   ]
  },
  {
   "cell_type": "markdown",
   "id": "15a26120",
   "metadata": {},
   "source": [
    "## Comparison Operators\n",
    "\n",
    "Comparision Operator humlog kisi chiz ko compare ya tulna karne ke liye karte hain."
   ]
  },
  {
   "cell_type": "code",
   "execution_count": 22,
   "id": "b2abc394",
   "metadata": {
    "scrolled": true
   },
   "outputs": [
    {
     "name": "stdout",
     "output_type": "stream",
     "text": [
      "True\n",
      "False\n",
      "False\n",
      "True\n",
      "True\n",
      "False\n",
      "False\n",
      "True\n"
     ]
    }
   ],
   "source": [
    "x = 4\n",
    "y = 2\n",
    "\n",
    "print(x>y)  # Greater Than : agar x bada hoga y se to true print hoga nahi to false hoga\n",
    "print(x<y)  # Smaller Than : agar x chota hoga y se to true print hoga nahi to false hoga\n",
    "print(x==y)  # double Equal to : agar x bara bar hoga y se to true print hoga nahi to false hoga\n",
    "print(x!=y)  # Not Equal to : agar x bara bar nahi hoga y se to true print hoga nahi to false hoga.\n",
    "print(x>=y)  # Greater than Equal to : agar x bada ya to bara bar hoga y se to true print hoga nahi to false hoga.\n",
    "print(x<=y)  # Less than Equal to : agar x chota ya bara bar hoga y se to true print hoga nahi to false hoga.\n",
    "print(x is y)  # Is : agar x bara bar hoga y se to true print hoga nahi to false hoga.\n",
    "print(x is not y)  # Is not : agar x bara bar hoga y se to true print hoga nahi to false hoga"
   ]
  },
  {
   "cell_type": "markdown",
   "id": "ce37fa8e",
   "metadata": {},
   "source": [
    "## Logical Operators\n",
    "\n",
    "Logical Operator ko humlog 2 ya 2 se jyada condition ko ek sath combine karne ke liye istemaal karte hain.  \n",
    " E.g :-  \n",
    " \n",
    "1. AND\n",
    "2. OR\n",
    "3. NOT\n",
    "\n",
    "**Note :-** Is operator ko padhne se pahle jaruri hai ki aap condition kya hota hai samjhe.\n",
    "To Chaliye condition ko samjhte hain kya hota hain.\n"
   ]
  },
  {
   "cell_type": "markdown",
   "id": "7acc0372",
   "metadata": {},
   "source": [
    "#### Condition / Flow control in Python\n",
    "\n",
    "Jaise ki real life  me humlog kuch decision lete hain or us decision ke anusar agla kaam karte hain.\n",
    "Theek usi tarah pyhton me bhi humlog kuch decision ke aadhar par kaam karne ke liye conditional statement ka istemaal karte hain.  \n",
    "**If - Elif - Else** statement ko Python me control statement bolte hain.\n",
    "ise kaise use karte hain chaliye ek program se samjhte hain."
   ]
  },
  {
   "cell_type": "markdown",
   "id": "37c06b7e",
   "metadata": {},
   "source": [
    "Q.  kisi user ka age diya rhega or usse hume check karna hai ki wo vote kar sakta hai ki nahi.\n",
    "Vote karne ke liye kuch niyam hai jaise\n",
    "1. age 18 ya us se upar ki honi chahiye   ---> yes you can vote\n",
    "2. age 60 ya us se kam ki honji chahiye   ----> yes you can vote\n",
    "3. agar upar ki dono comdition satisfy nahi nkarta hai to use vote nahi kar sakta hai --> you can't vote"
   ]
  },
  {
   "cell_type": "code",
   "execution_count": 2,
   "id": "5704523e",
   "metadata": {},
   "outputs": [
    {
     "name": "stdout",
     "output_type": "stream",
     "text": [
      "6\n",
      "yes you can vote\n"
     ]
    }
   ],
   "source": [
    "age  = int(input())\n",
    "if age >= 18:\n",
    "    print(\"Yes you can vote\")\n",
    "elif age <= 60:\n",
    "    print(\"yes you can vote\")\n",
    "else:\n",
    "    print(\"you can't vote\")\n",
    "        "
   ]
  },
  {
   "cell_type": "markdown",
   "id": "6e2e736a",
   "metadata": {},
   "source": [
    "Ab Upar wale program me ek bug aya ki agar age ka value 18 se chota rkhte hain to ans galat aata hai. \n",
    "agar ab baat ki jaye ki isko kaise thik kare. To is code ko humlog sudhar sakte hain **Logical Operator** ke help se.\n",
    "Abhi tak humlog ye jante hain ki logical operator humlog 2 ya 2 se jyadea condition ko combine karne ke liye istemaal karte hain to chaliye dekhte hain ki kaise ise thik kare."
   ]
  },
  {
   "cell_type": "code",
   "execution_count": 7,
   "id": "c86532d2",
   "metadata": {},
   "outputs": [
    {
     "name": "stdout",
     "output_type": "stream",
     "text": [
      "67\n",
      "yes you can vote\n"
     ]
    }
   ],
   "source": [
    "age  = int(input())\n",
    "\n",
    "if age <= 60 and age >= 18:\n",
    "    print(\"yes you can vote\")\n",
    "else:\n",
    "    print(\"you can't vote\")\n"
   ]
  },
  {
   "cell_type": "markdown",
   "id": "a9a86daf",
   "metadata": {},
   "source": [
    "Q. 2 user input lena hai first input user ka gender ka hoga jo ki string input hoga or second input age ka hoga jo int input hoga. ab hume print karna hai ki user vote kar sakta hai ya nahi. Vote karne ke liye kuch condition hai.\n",
    "1. agar user male hai to age 18 ya uske upar ka hona chahiye\n",
    "2. agar user female hai to age 16 ya uske upar hona chahiye."
   ]
  },
  {
   "cell_type": "code",
   "execution_count": 15,
   "id": "5834ad23",
   "metadata": {},
   "outputs": [
    {
     "name": "stdout",
     "output_type": "stream",
     "text": [
      "Enter you gender like male/female = male\n",
      "Enter your age in number = 20\n",
      "Yes you can vote\n"
     ]
    }
   ],
   "source": [
    "gender = str(input(\"Enter you gender like male/female = \"))\n",
    "age  = int(input(\"Enter your age in number = \"))\n",
    "# if gender == \"male\" and age >= 18:\n",
    "#     print(\"Yes you can vote\")\n",
    "# elif gender == \"female\" and age >= 16:\n",
    "#     print(\"Yes you can vote\")\n",
    "# else:\n",
    "#     print(\"You can't vote\")\n",
    "\n",
    "#Isi program ko OR ke help se kaise banaye\n",
    "\n",
    "if (gender == \"male\" and age >= 18) or (gender == \"female\" and age >= 16):\n",
    "    print(\"Yes you can vote\")\n",
    "else:\n",
    "    print(\"You can't vote\")\n"
   ]
  },
  {
   "cell_type": "code",
   "execution_count": 23,
   "id": "66f919ca",
   "metadata": {},
   "outputs": [
    {
     "name": "stdout",
     "output_type": "stream",
     "text": [
      "Not executed\n"
     ]
    }
   ],
   "source": [
    "a = 4\n",
    "b = False\n",
    "\n",
    "if  not b:\n",
    "    print(\"Not executed\")\n",
    "else:\n",
    "    print('Not execute nahi hua')"
   ]
  },
  {
   "cell_type": "markdown",
   "id": "2090f3b5",
   "metadata": {},
   "source": [
    "**AND** operator apne left or right dono condition ko true hone pe hi andar wala code run hota hai.  \n",
    "**OR** operator apne left or right dono me se koi ek bhi condition ko true hone pe andar wala code run hota hai.  \n",
    "**NOT** operator ke andar wala tab run hota hai jab tab condition false hota hai"
   ]
  },
  {
   "cell_type": "markdown",
   "id": "e109b400",
   "metadata": {},
   "source": [
    "## Bitwise Operators\n",
    "\n",
    "Is topic ko baad me padhenge"
   ]
  },
  {
   "cell_type": "markdown",
   "id": "4de9069f",
   "metadata": {},
   "source": [
    "## Assignment Operators \n",
    "\n",
    "Assignment Operator humlog variable me value dalne ke liye use karte hain. or jo value hai wo badha ke ghata ke ya guna kar ke ityadi operation karne ke baad humlog variable me dalte hain."
   ]
  },
  {
   "cell_type": "code",
   "execution_count": 34,
   "id": "d2459638",
   "metadata": {},
   "outputs": [
    {
     "name": "stdout",
     "output_type": "stream",
     "text": [
      "8\n",
      "10\n",
      "7\n",
      "14\n",
      "2.0\n",
      "2\n",
      "4.0\n"
     ]
    }
   ],
   "source": [
    "num1 = 5\n",
    "\n",
    "num1 = 8   # ----> Equals to \n",
    "print(num1)\n",
    "\n",
    "num1 += 2  # ---->  add Equals to \n",
    "print(num1)\n",
    "\n",
    "num1 -= 3   # ----> subtract Equals to\n",
    "print(num1)\n",
    "\n",
    "num1 *= 2  # ----> multiply Equals to\n",
    "print(num1)\n",
    "\n",
    "num1 /= 7  # ----> float division Equals to\n",
    "print(num1)\n",
    "\n",
    "a = 4\n",
    "a = a//2  # ----> integer division Equals to\n",
    "print(a)\n",
    "\n",
    "num1 **= 2  # -----> Power equals to\n",
    "print(num1)"
   ]
  },
  {
   "cell_type": "markdown",
   "id": "e194adbc",
   "metadata": {},
   "source": [
    "## Q. Koi number ko kaise pata kare ki ye kisi number se divisible hai ya nahi\n",
    "\n",
    "E.G :-\n",
    "hume pata karna hai ki a, b se divisible hai ya nahi  ---> a/b"
   ]
  },
  {
   "cell_type": "code",
   "execution_count": 38,
   "id": "5dbac39a",
   "metadata": {},
   "outputs": [
    {
     "name": "stdout",
     "output_type": "stream",
     "text": [
      "a is divisible by b\n"
     ]
    }
   ],
   "source": [
    "a = 8\n",
    "b = 2\n",
    "if a%b==0:\n",
    "    print(\"a is divisible by b\")\n",
    "else:\n",
    "    print(\"Not divisible\")"
   ]
  },
  {
   "cell_type": "markdown",
   "id": "b5e36a5e",
   "metadata": {},
   "source": [
    "**Even Number** --> jo number 2 se pure tarah se kat jye wo even number hota hai"
   ]
  },
  {
   "cell_type": "code",
   "execution_count": 37,
   "id": "d2baabdf",
   "metadata": {},
   "outputs": [
    {
     "name": "stdout",
     "output_type": "stream",
     "text": [
      "Odd Number\n"
     ]
    }
   ],
   "source": [
    "a = 9\n",
    "if a%2==0:\n",
    "    print(\"Even Number\")\n",
    "else:\n",
    "    print(\"Odd Number\")"
   ]
  },
  {
   "cell_type": "markdown",
   "id": "25e1a975",
   "metadata": {},
   "source": [
    "## Q. For Practice\n",
    "\n",
    "2 input lena hai first gender or second age. hme check karna hai ki user vote kar sakta hai ya nahi.  \n",
    "Vote karne ke liye kuch condition hai...\n",
    "1. agar user male hai to uska age 18 ya us se upar or 60 ya us se niche or uske age even number hona chahiye.\n",
    "2. ager user female hai to uska age 16 ya us se upar or 60 ya us se niche uska age odd number hona chahiye."
   ]
  },
  {
   "cell_type": "code",
   "execution_count": 6,
   "id": "f4f9b503",
   "metadata": {},
   "outputs": [
    {
     "name": "stdout",
     "output_type": "stream",
     "text": [
      "Enter you gender like male/female = female\n",
      "Enter your age in number = 28\n",
      "You can't vote\n"
     ]
    }
   ],
   "source": [
    "''''gender = str(input(\"Enter you gender like male/female = \"))\n",
    "age = int(input(\"Enter your age in number = \"))\n",
    "\n",
    "if gender == \"male\" and age >= 18 and age <=60 and age%2==0:\n",
    "      print(\"Yes you can vote\")\n",
    "elif gender == \"female\" and age >= 16  and age <=60 and age%2!=0:\n",
    "      print(\"Yes you can vote\")\n",
    "else:\n",
    "     print(\"You can't vote\")'''\n",
    "\n",
    "gender = str(input(\"Enter you gender like male/female = \"))\n",
    "age = int(input(\"Enter your age in number = \"))\n",
    "\n",
    "if (gender == \"male\" and age >= 18 and age <=60 and age%2==0) or (gender == \"female\" and age >= 16  and age <=60 and age%2!=0):\n",
    "      print(\"Yes you can vote\")\n",
    "else:\n",
    "     print(\"You can't vote\")"
   ]
  },
  {
   "cell_type": "markdown",
   "id": "1f1b3d7d",
   "metadata": {},
   "source": [
    "**Q. Take a integer input n from user and print the next even number after it.**\n",
    "E.G :-  \n",
    "I/N - 4  \n",
    "O/P - 6\n",
    "\n",
    "I/N - 5  \n",
    "O/p - 6"
   ]
  },
  {
   "cell_type": "code",
   "execution_count": 14,
   "id": "8e7646d8",
   "metadata": {},
   "outputs": [
    {
     "name": "stdout",
     "output_type": "stream",
     "text": [
      "4\n",
      "6\n"
     ]
    }
   ],
   "source": [
    "n = int(input())\n",
    "if n%2==0:\n",
    "    print(n+2)\n",
    "else:\n",
    "    print(n+1)"
   ]
  },
  {
   "cell_type": "markdown",
   "id": "d468ebd4",
   "metadata": {},
   "source": [
    "# Loops In Python\n",
    "\n",
    "**Loops :** ka use humlog tab karte hain Jab kisi instruction ko lagatar run karna hota hai tab tak ki jab tak ki ek certain condition tak na pahuche. \n",
    "\n",
    "\n",
    "**Types of For Loops :-**\n",
    "\n",
    "### 1. For loop with range function**\n",
    "\n",
    "syntax :-\n",
    "\n",
    "for i in range(start, end, step):  \n",
    "    # statements\n"
   ]
  },
  {
   "cell_type": "markdown",
   "id": "21d8a67e",
   "metadata": {},
   "source": [
    "Q. Print the number from 1 to 10."
   ]
  },
  {
   "cell_type": "code",
   "execution_count": 2,
   "id": "464cc009",
   "metadata": {
    "scrolled": true
   },
   "outputs": [
    {
     "name": "stdout",
     "output_type": "stream",
     "text": [
      "1 2 3 4 5 6 7 8 9 10 "
     ]
    }
   ],
   "source": [
    "for i in range(1, 10+1):\n",
    "    print(i, end=\" \")"
   ]
  },
  {
   "cell_type": "markdown",
   "id": "d4cc66fc",
   "metadata": {},
   "source": [
    "Q. Take start and end input from user and print the even number from the given range."
   ]
  },
  {
   "cell_type": "code",
   "execution_count": 4,
   "id": "538bf21d",
   "metadata": {},
   "outputs": [
    {
     "name": "stdout",
     "output_type": "stream",
     "text": [
      "Enter a starting number = 1\n",
      "Enter ending number = 10\n",
      "2 4 6 8 10 "
     ]
    }
   ],
   "source": [
    "start = int(input(\"Enter a starting number = \"))\n",
    "end = int(input(\"Enter ending number = \"))\n",
    "\n",
    "for i in range(start,end+1):\n",
    "    if i % 2 == 0:\n",
    "        print(i,end=\" \")"
   ]
  },
  {
   "cell_type": "markdown",
   "id": "d5499b87",
   "metadata": {},
   "source": [
    "### Sum in Loops\n",
    "**Q. Take start and end input from user and print the sum of even number from the given range.**"
   ]
  },
  {
   "cell_type": "code",
   "execution_count": 6,
   "id": "4567052e",
   "metadata": {},
   "outputs": [
    {
     "name": "stdout",
     "output_type": "stream",
     "text": [
      "Enter a starting number = 1\n",
      "Enter ending number = 10\n",
      "30\n"
     ]
    }
   ],
   "source": [
    "start = int(input(\"Enter a starting number = \"))\n",
    "end = int(input(\"Enter ending number = \"))\n",
    "\n",
    "total = 0\n",
    "\n",
    "for i in range(start,end+1):\n",
    "    if i%2==0:\n",
    "        total += i\n",
    "print(total)"
   ]
  },
  {
   "cell_type": "markdown",
   "id": "4d6e2f59",
   "metadata": {},
   "source": [
    "**Q. Take a integer input n from user and print the number lies between in the number but following with certain condition.**\n",
    "1. if number is divisible by 3 then print Fizz.\n",
    "2. if number is divisible by 5 then print Buzz.\n",
    "3. if number is divisible by 3 and 5 both then print Fizz Buzz.\n",
    "4. if number is not divisible by any of them then print the number.\n"
   ]
  },
  {
   "cell_type": "code",
   "execution_count": 9,
   "id": "69b4f9fc",
   "metadata": {},
   "outputs": [
    {
     "name": "stdout",
     "output_type": "stream",
     "text": [
      "15\n",
      "1 2 Fizz 4 Buzz Fizz 7 8 Fizz Buzz 11 Fizz 13 14 FizzBuzz "
     ]
    }
   ],
   "source": [
    "n = int(input())\n",
    "for i in range(1,n+1):\n",
    "    if i % 3 == 0 and i % 5 == 0:\n",
    "        print(\"FizzBuzz\", end =\" \")\n",
    "    elif i % 3 == 0:\n",
    "        print(\"Fizz\", end =\" \")\n",
    "    elif i % 5 == 0:\n",
    "        print(\"Buzz\", end =\" \")\n",
    "    else:\n",
    "        print(i, end =\" \")"
   ]
  },
  {
   "cell_type": "markdown",
   "id": "a2e7ddfe",
   "metadata": {},
   "source": [
    "### 2. For each loop in python\n",
    "\n",
    "this loop is also called for in loop.  \n",
    "\n",
    "syntax :-   \n",
    " \n",
    "for i in iterable_object:  \n",
    "   #statements\n",
    "\n",
    "**Iterable_object** means ki wo object jo apne andar ek ya us se jyada chiz jod ke rkhne ka chhamta ho like String, List, tuple, dictionary etc.  "
   ]
  },
  {
   "cell_type": "code",
   "execution_count": 11,
   "id": "09a142f9",
   "metadata": {},
   "outputs": [
    {
     "name": "stdout",
     "output_type": "stream",
     "text": [
      "H e l l o _ W o r l d "
     ]
    }
   ],
   "source": [
    "string = \"Hello_World\"\n",
    "\n",
    "for i in string:\n",
    "    print(i,end=\" \")"
   ]
  },
  {
   "cell_type": "markdown",
   "id": "39fe65e4",
   "metadata": {},
   "source": [
    "### Control statements in Loops\n",
    "\n",
    "control statements wo hota hai jis se humlog loop ke upar control karte hain jaise loop ko bich me hi khatam karna ya uske move kar jana etc.  \n",
    "E.G -    \n",
    "**break** : ye statement tab use kara jata jab hume ek fix condition pe loop ko khatam karna ho.  \n",
    "**Continue** : ye statement tab use kara jata hai jab hume koi condition pe loop ke us iteration ko skip karna ho.   \n",
    "\n",
    "chaliye ise niche ke example se samjhte hain.  "
   ]
  },
  {
   "cell_type": "code",
   "execution_count": 12,
   "id": "6df6816f",
   "metadata": {},
   "outputs": [
    {
     "name": "stdout",
     "output_type": "stream",
     "text": [
      "1 2 3 4 "
     ]
    }
   ],
   "source": [
    "# break\n",
    "\n",
    "for i in range(1,11):\n",
    "    if i==5:\n",
    "        break\n",
    "    print(i, end=\" \")"
   ]
  },
  {
   "cell_type": "code",
   "execution_count": 13,
   "id": "36bed3e4",
   "metadata": {},
   "outputs": [
    {
     "name": "stdout",
     "output_type": "stream",
     "text": [
      "1 2 3 4 6 7 8 9 10 "
     ]
    }
   ],
   "source": [
    "#  Continue\n",
    "\n",
    "for i in range(1,11):\n",
    "    if i == 5:\n",
    "        continue\n",
    "    print(i,end=\" \")"
   ]
  }
 ],
 "metadata": {
  "kernelspec": {
   "display_name": "Python 3 (ipykernel)",
   "language": "python",
   "name": "python3"
  },
  "language_info": {
   "codemirror_mode": {
    "name": "ipython",
    "version": 3
   },
   "file_extension": ".py",
   "mimetype": "text/x-python",
   "name": "python",
   "nbconvert_exporter": "python",
   "pygments_lexer": "ipython3",
   "version": "3.7.6"
  }
 },
 "nbformat": 4,
 "nbformat_minor": 5
}
