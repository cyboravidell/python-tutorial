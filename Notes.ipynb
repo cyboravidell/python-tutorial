{
 "cells": [
  {
   "cell_type": "markdown",
   "id": "7977a686",
   "metadata": {},
   "source": [
    "<div class=\"alert alert-block alert-info\"># Python notes </div>"
   ]
  },
  {
   "cell_type": "markdown",
   "id": "d6d76e85",
   "metadata": {},
   "source": [
    "## 1. Data Type"
   ]
  },
  {
   "cell_type": "markdown",
   "id": "49ccf58a",
   "metadata": {},
   "source": [
    "**Basic data Type**\n",
    "\n",
    "1  ---> Int data type  \n",
    "1.5 ----> Float data type  \n",
    "\"Manish Kumar\" ---> String data type  \n",
    "True / False  ----> Boolean data type  \n",
    "\n",
    "**Advance data Type**  \n",
    "\n",
    "[1, 1.5, \"Manish\", 1]  ---> List data Type  \n",
    "(1, 1.5, \"Manish\", 1)  ---> tuple data Type  \n",
    "{1, 1.5, \"Manish\"}   -----> Set data type  \n",
    "{\"Manish\" : \"7296000135\" , \"Ravi\": \"6201881238\"}  ----> Dictionary Data Type  "
   ]
  },
  {
   "cell_type": "markdown",
   "id": "6c15c226",
   "metadata": {},
   "source": [
    "## 2. Variable "
   ]
  },
  {
   "cell_type": "markdown",
   "id": "51b4c218",
   "metadata": {},
   "source": [
    "Variable means a container in which we store some values , and value can be different data types.  \n",
    "\n",
    "E.G :-  "
   ]
  },
  {
   "cell_type": "code",
   "execution_count": null,
   "id": "a4fad398",
   "metadata": {},
   "outputs": [],
   "source": [
    "a = 1   # Iska matlb ye hai ye variable 'a' me ek int type ka data rakha hai jiska value 1 hai.\n",
    "\n",
    "b = 1.5 # Iska matlb ye hai ye variable 'b' me ek float type ka data rakha hai jiska value 1.5 hai.\n",
    "\n",
    "c = \"Manish Kumar\" # Iska matlb ye hai ye variable 'c' me ek string type\n",
    "                    #ka data rakha hai jiska value \"Manish Kumar\" hai.\n",
    "    \n",
    "d = True  # Iska matlb ye hai ye variable 'd' me ek boolean \n",
    "            #type ka data rakha hai jiska value True hai.\n",
    "\n",
    "# variable of  Advance data type \n",
    "\n",
    "arr = [1, 1.5, \"Manish\", 1]  # Iska matlb ye hai ki variable 'arr' me ek list type ka data stored hai\n",
    "\n",
    "arr2 = (1, 1.5, \"Manish\", 1) # Iska matlb ye hai ki variable 'arr2' me ek tuple \n",
    "                            # type ka data stored hai.\n",
    "\n",
    "s = {1, 1.5, \"Manish\"} # Iska matlb ye hai ki variable 's' me ek set type ka data stored hai.\n",
    "\n",
    "dict = {\"Manish\" : \"7296000135\" , \"Ravi\": \"6201881238\"} # Iska matlb ye hai ki variable 'dict' \n",
    "                                                        # me ek dictionary type ka data stored hai."
   ]
  },
  {
   "cell_type": "markdown",
   "id": "32e7736e",
   "metadata": {},
   "source": [
    "**Variable name banane ke Rules :-**"
   ]
  },
  {
   "cell_type": "markdown",
   "id": "f0e22835",
   "metadata": {},
   "source": [
    "1. Variable name ka starting letter alphabet hi hona chahiye na ki koi number, space, special character.\n",
    " - a = 0 ----> ye sahi hai\n",
    " - 1 = 0 ----> ye wrong hai  \n",
    " \n",
    "2. Variable name ke bich me ya kahi bhi space nahi hona chahiye. \n",
    " - total_number = 0  ----> ye sahi hai\n",
    " - total number = 0  ----> ye wrong hai  \n",
    " \n",
    "3. Variable number me kahi bhi Special character jaise ki \"@#.*$%!\" etc. kuch bhi nahi hona chahiye.\n",
    " - total#number = 0  ---> ye wrong hai\n",
    " - total_number = 0  ---> ye sahi hai   "
   ]
  },
  {
   "cell_type": "code",
   "execution_count": 4,
   "id": "900a8a03",
   "metadata": {},
   "outputs": [],
   "source": [
    "total_number = 0"
   ]
  },
  {
   "cell_type": "markdown",
   "id": "835f5874",
   "metadata": {},
   "source": [
    "# 3. Operator\n",
    "\n",
    "## Arithmetic Operators**\n",
    "\n",
    "Arithmetic operator humlog math ka  operation use karne ke  liye karte hain jaise ki +,-,*,/ etc.\n",
    "\n",
    "\n",
    "- operands :  x + y agar aisa likha hua hai to x or y operand hai or + operator hai\n",
    "\n"
   ]
  },
  {
   "cell_type": "code",
   "execution_count": 14,
   "id": "60071da6",
   "metadata": {},
   "outputs": [
    {
     "name": "stdout",
     "output_type": "stream",
     "text": [
      "Addition of x and y is  6\n",
      "Subtraction of x and y is  2\n",
      "Multiplication of x and y is  8\n",
      "Float division of x and y is  2.0\n",
      "Integer division of x and y is  2\n",
      "Modulus of x and y is  0\n",
      "Power of x to the y is  16\n"
     ]
    }
   ],
   "source": [
    "x = 4\n",
    "y = 2\n",
    "\n",
    "print(\"Addition of x and y is \", x+y)  # Addition of two operands or variable\n",
    "print(\"Subtraction of x and y is \", x-y)  # Subtraction of two operand or variable\n",
    "print(\"Multiplication of x and y is \", x*y) # Multiplication of two operand or variable\n",
    "print(\"Float division of x and y is \", x/y)  # Float division of two operand or variable\n",
    "print(\"Integer division of x and y is \", x//y) # Integer division of two operand or variable\n",
    "print(\"Modulus of x and y is \", x%y)  # Modulus operator remainder return karta hai jab\n",
    "                                      # x ko y se bhag dete hai\n",
    "print(\"Power of x to the y is \" , x**2) # x ka power y hai iska matlb"
   ]
  },
  {
   "cell_type": "markdown",
   "id": "15a26120",
   "metadata": {},
   "source": [
    "## Comparison Operators\n",
    "\n",
    "Comparision Operator humlog kisi chiz ko compare ya tulna karne ke liye karte hain."
   ]
  },
  {
   "cell_type": "code",
   "execution_count": 22,
   "id": "b2abc394",
   "metadata": {
    "scrolled": true
   },
   "outputs": [
    {
     "name": "stdout",
     "output_type": "stream",
     "text": [
      "True\n",
      "False\n",
      "False\n",
      "True\n",
      "True\n",
      "False\n",
      "False\n",
      "True\n"
     ]
    }
   ],
   "source": [
    "x = 4\n",
    "y = 2\n",
    "\n",
    "print(x>y)  # Greater Than : agar x bada hoga y se to true print hoga nahi to false hoga\n",
    "print(x<y)  # Smaller Than : agar x chota hoga y se to true print hoga nahi to false hoga\n",
    "print(x==y)  # double Equal to : agar x bara bar hoga y se to true print hoga nahi to false hoga\n",
    "print(x!=y)  # Not Equal to : agar x bara bar nahi hoga y se to true print hoga nahi to false hoga.\n",
    "print(x>=y)  # Greater than Equal to : agar x bada ya to bara bar hoga y se to true print hoga nahi to false hoga.\n",
    "print(x<=y)  # Less than Equal to : agar x chota ya bara bar hoga y se to true print hoga nahi to false hoga.\n",
    "print(x is y)  # Is : agar x bara bar hoga y se to true print hoga nahi to false hoga.\n",
    "print(x is not y)  # Is not : agar x bara bar hoga y se to true print hoga nahi to false hoga"
   ]
  },
  {
   "cell_type": "markdown",
   "id": "ce37fa8e",
   "metadata": {},
   "source": [
    "## Logical Operators\n",
    "\n",
    "Logical Operator ko humlog 2 ya 2 se jyada condition ko ek sath combine karne ke liye istemaal karte hain.  \n",
    " E.g :-  \n",
    " \n",
    "1. AND\n",
    "2. OR\n",
    "3. NOT\n",
    "\n",
    "**Note :-** Is operator ko padhne se pahle jaruri hai ki aap condition kya hota hai samjhe.\n",
    "To Chaliye condition ko samjhte hain kya hota hain.\n"
   ]
  },
  {
   "cell_type": "markdown",
   "id": "7acc0372",
   "metadata": {},
   "source": [
    "#### Condition / Flow control in Python\n",
    "\n",
    "Jaise ki real life  me humlog kuch decision lete hain or us decision ke anusar agla kaam karte hain.\n",
    "Theek usi tarah pyhton me bhi humlog kuch decision ke aadhar par kaam karne ke liye conditional statement ka istemaal karte hain.  \n",
    "**If - Elif - Else** statement ko Python me control statement bolte hain.\n",
    "ise kaise use karte hain chaliye ek program se samjhte hain."
   ]
  },
  {
   "cell_type": "markdown",
   "id": "37c06b7e",
   "metadata": {},
   "source": [
    "Q.  kisi user ka age diya rhega or usse hume check karna hai ki wo vote kar sakta hai ki nahi.\n",
    "Vote karne ke liye kuch niyam hai jaise\n",
    "1. age 18 ya us se upar ki honi chahiye   ---> yes you can vote\n",
    "2. age 60 ya us se kam ki honji chahiye   ----> yes you can vote\n",
    "3. agar upar ki dono comdition satisfy nahi nkarta hai to use vote nahi kar sakta hai --> you can't vote"
   ]
  },
  {
   "cell_type": "code",
   "execution_count": 2,
   "id": "5704523e",
   "metadata": {},
   "outputs": [
    {
     "name": "stdout",
     "output_type": "stream",
     "text": [
      "6\n",
      "yes you can vote\n"
     ]
    }
   ],
   "source": [
    "age  = int(input())\n",
    "if age >= 18:\n",
    "    print(\"Yes you can vote\")\n",
    "elif age <= 60:\n",
    "    print(\"yes you can vote\")\n",
    "else:\n",
    "    print(\"you can't vote\")\n",
    "        "
   ]
  },
  {
   "cell_type": "markdown",
   "id": "6e2e736a",
   "metadata": {},
   "source": [
    "Ab Upar wale program me ek bug aya ki agar age ka value 18 se chota rkhte hain to ans galat aata hai. \n",
    "agar ab baat ki jaye ki isko kaise thik kare. To is code ko humlog sudhar sakte hain **Logical Operator** ke help se.\n",
    "Abhi tak humlog ye jante hain ki logical operator humlog 2 ya 2 se jyadea condition ko combine karne ke liye istemaal karte hain to chaliye dekhte hain ki kaise ise thik kare."
   ]
  },
  {
   "cell_type": "code",
   "execution_count": 7,
   "id": "c86532d2",
   "metadata": {},
   "outputs": [
    {
     "name": "stdout",
     "output_type": "stream",
     "text": [
      "67\n",
      "yes you can vote\n"
     ]
    }
   ],
   "source": [
    "age  = int(input())\n",
    "\n",
    "if age <= 60 and age >= 18:\n",
    "    print(\"yes you can vote\")\n",
    "else:\n",
    "    print(\"you can't vote\")\n"
   ]
  },
  {
   "cell_type": "markdown",
   "id": "a9a86daf",
   "metadata": {},
   "source": [
    "Q. 2 user input lena hai first input user ka gender ka hoga jo ki string input hoga or second input age ka hoga jo int input hoga. ab hume print karna hai ki user vote kar sakta hai ya nahi. Vote karne ke liye kuch condition hai.\n",
    "1. agar user male hai to age 18 ya uske upar ka hona chahiye\n",
    "2. agar user female hai to age 16 ya uske upar hona chahiye."
   ]
  },
  {
   "cell_type": "code",
   "execution_count": 15,
   "id": "5834ad23",
   "metadata": {},
   "outputs": [
    {
     "name": "stdout",
     "output_type": "stream",
     "text": [
      "Enter you gender like male/female = male\n",
      "Enter your age in number = 20\n",
      "Yes you can vote\n"
     ]
    }
   ],
   "source": [
    "gender = str(input(\"Enter you gender like male/female = \"))\n",
    "age  = int(input(\"Enter your age in number = \"))\n",
    "# if gender == \"male\" and age >= 18:\n",
    "#     print(\"Yes you can vote\")\n",
    "# elif gender == \"female\" and age >= 16:\n",
    "#     print(\"Yes you can vote\")\n",
    "# else:\n",
    "#     print(\"You can't vote\")\n",
    "\n",
    "#Isi program ko OR ke help se kaise banaye\n",
    "\n",
    "if (gender == \"male\" and age >= 18) or (gender == \"female\" and age >= 16):\n",
    "    print(\"Yes you can vote\")\n",
    "else:\n",
    "    print(\"You can't vote\")\n"
   ]
  },
  {
   "cell_type": "code",
   "execution_count": 23,
   "id": "66f919ca",
   "metadata": {},
   "outputs": [
    {
     "name": "stdout",
     "output_type": "stream",
     "text": [
      "Not executed\n"
     ]
    }
   ],
   "source": [
    "a = 4\n",
    "b = False\n",
    "\n",
    "if  not b:\n",
    "    print(\"Not executed\")\n",
    "else:\n",
    "    print('Not execute nahi hua')"
   ]
  },
  {
   "cell_type": "markdown",
   "id": "2090f3b5",
   "metadata": {},
   "source": [
    "**AND** operator apne left or right dono condition ko true hone pe hi andar wala code run hota hai.  \n",
    "**OR** operator apne left or right dono me se koi ek bhi condition ko true hone pe andar wala code run hota hai.  \n",
    "**NOT** operator ke andar wala tab run hota hai jab tab condition false hota hai"
   ]
  },
  {
   "cell_type": "markdown",
   "id": "e109b400",
   "metadata": {},
   "source": [
    "## Bitwise Operators\n",
    "\n",
    "Is topic ko baad me padhenge"
   ]
  },
  {
   "cell_type": "markdown",
   "id": "4de9069f",
   "metadata": {},
   "source": [
    "## Assignment Operators \n",
    "\n",
    "Assignment Operator humlog variable me value dalne ke liye use karte hain. or jo value hai wo badha ke ghata ke ya guna kar ke ityadi operation karne ke baad humlog variable me dalte hain."
   ]
  },
  {
   "cell_type": "code",
   "execution_count": 34,
   "id": "d2459638",
   "metadata": {},
   "outputs": [
    {
     "name": "stdout",
     "output_type": "stream",
     "text": [
      "8\n",
      "10\n",
      "7\n",
      "14\n",
      "2.0\n",
      "2\n",
      "4.0\n"
     ]
    }
   ],
   "source": [
    "num1 = 5\n",
    "\n",
    "num1 = 8   # ----> Equals to \n",
    "print(num1)\n",
    "\n",
    "num1 += 2  # ---->  add Equals to \n",
    "print(num1)\n",
    "\n",
    "num1 -= 3   # ----> subtract Equals to\n",
    "print(num1)\n",
    "\n",
    "num1 *= 2  # ----> multiply Equals to\n",
    "print(num1)\n",
    "\n",
    "num1 /= 7  # ----> float division Equals to\n",
    "print(num1)\n",
    "\n",
    "a = 4\n",
    "a = a//2  # ----> integer division Equals to\n",
    "print(a)\n",
    "\n",
    "num1 **= 2  # -----> Power equals to\n",
    "print(num1)"
   ]
  },
  {
   "cell_type": "markdown",
   "id": "e194adbc",
   "metadata": {},
   "source": [
    "## Q. Koi number ko kaise pata kare ki ye kisi number se divisible hai ya nahi\n",
    "\n",
    "E.G :-\n",
    "hume pata karna hai ki a, b se divisible hai ya nahi  ---> a/b"
   ]
  },
  {
   "cell_type": "code",
   "execution_count": 38,
   "id": "5dbac39a",
   "metadata": {},
   "outputs": [
    {
     "name": "stdout",
     "output_type": "stream",
     "text": [
      "a is divisible by b\n"
     ]
    }
   ],
   "source": [
    "a = 8\n",
    "b = 2\n",
    "if a%b==0:\n",
    "    print(\"a is divisible by b\")\n",
    "else:\n",
    "    print(\"Not divisible\")"
   ]
  },
  {
   "cell_type": "markdown",
   "id": "b5e36a5e",
   "metadata": {},
   "source": [
    "**Even Number** --> jo number 2 se pure tarah se kat jye wo even number hota hai"
   ]
  },
  {
   "cell_type": "code",
   "execution_count": 37,
   "id": "d2baabdf",
   "metadata": {},
   "outputs": [
    {
     "name": "stdout",
     "output_type": "stream",
     "text": [
      "Odd Number\n"
     ]
    }
   ],
   "source": [
    "a = 9\n",
    "if a%2==0:\n",
    "    print(\"Even Number\")\n",
    "else:\n",
    "    print(\"Odd Number\")"
   ]
  },
  {
   "cell_type": "markdown",
   "id": "25e1a975",
   "metadata": {},
   "source": [
    "## Q. For Practice\n",
    "\n",
    "2 input lena hai first gender or second age. hme check karna hai ki user vote kar sakta hai ya nahi.  \n",
    "Vote karne ke liye kuch condition hai...\n",
    "1. agar user male hai to uska age 18 ya us se upar or 60 ya us se niche or uske age even number hona chahiye.\n",
    "2. ager user female hai to uska age 16 ya us se upar or 60 ya us se niche uska age odd number hona chahiye."
   ]
  },
  {
   "cell_type": "code",
   "execution_count": null,
   "id": "f4f9b503",
   "metadata": {},
   "outputs": [],
   "source": [
    "gender = str(input(\"Enter you gender like male/female = \"))\n",
    "age = int(input(\"Enter your age in number = \"))\n",
    "\n",
    "if "
   ]
  }
 ],
 "metadata": {
  "kernelspec": {
   "display_name": "Python 3",
   "language": "python",
   "name": "python3"
  },
  "language_info": {
   "codemirror_mode": {
    "name": "ipython",
    "version": 3
   },
   "file_extension": ".py",
   "mimetype": "text/x-python",
   "name": "python",
   "nbconvert_exporter": "python",
   "pygments_lexer": "ipython3",
   "version": "3.9.1"
  }
 },
 "nbformat": 4,
 "nbformat_minor": 5
}
