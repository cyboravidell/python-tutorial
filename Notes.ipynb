{
 "cells": [
  {
   "cell_type": "markdown",
   "id": "7977a686",
   "metadata": {},
   "source": [
    "<div class=\"alert alert-block alert-info\"># Python notes </div>"
   ]
  },
  {
   "cell_type": "markdown",
   "id": "d6d76e85",
   "metadata": {},
   "source": [
    "## 1. Data Type"
   ]
  },
  {
   "cell_type": "markdown",
   "id": "49ccf58a",
   "metadata": {},
   "source": [
    "**Basic data Type**\n",
    "\n",
    "1  ---> Int data type  \n",
    "1.5 ----> Float data type  \n",
    "\"Manish Kumar\" ---> String data type  \n",
    "True / False  ----> Boolean data type  \n",
    "\n",
    "**Advance data Type**  \n",
    "\n",
    "[1, 1.5, \"Manish\", 1]  ---> List data Type  \n",
    "(1, 1.5, \"Manish\", 1)  ---> tuple data Type  \n",
    "{1, 1.5, \"Manish\"}   -----> Set data type  \n",
    "{\"Manish\" : \"7296000135\" , \"Ravi\": \"6201881238\"}  ----> Dictionary Data Type  "
   ]
  },
  {
   "cell_type": "markdown",
   "id": "6c15c226",
   "metadata": {},
   "source": [
    "## 2. Variable "
   ]
  },
  {
   "cell_type": "markdown",
   "id": "51b4c218",
   "metadata": {},
   "source": [
    "Variable means a container in which we store some values , and value can be different data types.  \n",
    "\n",
    "E.G :-  "
   ]
  },
  {
   "cell_type": "code",
   "execution_count": null,
   "id": "a4fad398",
   "metadata": {},
   "outputs": [],
   "source": [
    "a = 1   # Iska matlb ye hai ye variable 'a' me ek int type ka data rakha hai jiska value 1 hai.\n",
    "\n",
    "b = 1.5 # Iska matlb ye hai ye variable 'b' me ek float type ka data rakha hai jiska value 1.5 hai.\n",
    "\n",
    "c = \"Manish Kumar\" # Iska matlb ye hai ye variable 'c' me ek string type\n",
    "                    #ka data rakha hai jiska value \"Manish Kumar\" hai.\n",
    "    \n",
    "d = True  # Iska matlb ye hai ye variable 'd' me ek boolean \n",
    "            #type ka data rakha hai jiska value True hai.\n",
    "\n",
    "# variable of  Advance data type \n",
    "\n",
    "arr = [1, 1.5, \"Manish\", 1]  # Iska matlb ye hai ki variable 'arr' me ek list type ka data stored hai\n",
    "\n",
    "arr2 = (1, 1.5, \"Manish\", 1) # Iska matlb ye hai ki variable 'arr2' me ek tuple \n",
    "                            # type ka data stored hai.\n",
    "\n",
    "s = {1, 1.5, \"Manish\"} # Iska matlb ye hai ki variable 's' me ek set type ka data stored hai.\n",
    "\n",
    "dict = {\"Manish\" : \"7296000135\" , \"Ravi\": \"6201881238\"} # Iska matlb ye hai ki variable 'dict' \n",
    "                                                        # me ek dictionary type ka data stored hai."
   ]
  },
  {
   "cell_type": "markdown",
   "id": "32e7736e",
   "metadata": {},
   "source": [
    "**Variable name banane ke Rules :-**"
   ]
  },
  {
   "cell_type": "markdown",
   "id": "f0e22835",
   "metadata": {},
   "source": [
    "1. Variable name ka starting letter alphabet hi hona chahiye na ki koi number, space, special character.\n",
    " - a = 0 ----> ye sahi hai\n",
    " - 1 = 0 ----> ye wrong hai  \n",
    " \n",
    "2. Variable name ke bich me ya kahi bhi space nahi hona chahiye. \n",
    " - total_number = 0  ----> ye sahi hai\n",
    " - total number = 0  ----> ye wrong hai  \n",
    " \n",
    "3. Variable number me kahi bhi Special character jaise ki \"@#.*$%!\" etc. kuch bhi nahi hona chahiye.\n",
    " - total#number = 0  ---> ye wrong hai\n",
    " - total_number = 0  ---> ye sahi hai   "
   ]
  },
  {
   "cell_type": "code",
   "execution_count": 4,
   "id": "900a8a03",
   "metadata": {},
   "outputs": [],
   "source": [
    "total_number = 0"
   ]
  },
  {
   "cell_type": "markdown",
   "id": "835f5874",
   "metadata": {},
   "source": [
    "# 3. Operator\n",
    "\n",
    "## Arithmetic Operators**\n",
    "\n",
    "Arithmetic operator humlog math ka  operation use karne ke  liye karte hain jaise ki +,-,*,/ etc.\n",
    "\n",
    "\n",
    "- operands :  x + y agar aisa likha hua hai to x or y operand hai or + operator hai\n",
    "\n"
   ]
  },
  {
   "cell_type": "code",
   "execution_count": 14,
   "id": "60071da6",
   "metadata": {},
   "outputs": [
    {
     "name": "stdout",
     "output_type": "stream",
     "text": [
      "Addition of x and y is  6\n",
      "Subtraction of x and y is  2\n",
      "Multiplication of x and y is  8\n",
      "Float division of x and y is  2.0\n",
      "Integer division of x and y is  2\n",
      "Modulus of x and y is  0\n",
      "Power of x to the y is  16\n"
     ]
    }
   ],
   "source": [
    "x = 4\n",
    "y = 2\n",
    "\n",
    "print(\"Addition of x and y is \", x+y)  # Addition of two operands or variable\n",
    "print(\"Subtraction of x and y is \", x-y)  # Subtraction of two operand or variable\n",
    "print(\"Multiplication of x and y is \", x*y) # Multiplication of two operand or variable\n",
    "print(\"Float division of x and y is \", x/y)  # Float division of two operand or variable\n",
    "print(\"Integer division of x and y is \", x//y) # Integer division of two operand or variable\n",
    "print(\"Modulus of x and y is \", x%y)  # Modulus operator remainder return karta hai jab\n",
    "                                      # x ko y se bhag dete hai\n",
    "print(\"Power of x to the y is \" , x**2) # x ka power y hai iska matlb"
   ]
  },
  {
   "cell_type": "markdown",
   "id": "15a26120",
   "metadata": {},
   "source": [
    "## Comparison Operators\n",
    "\n",
    "Comparision Operator humlog kisi chiz ko compare ya tulna karne ke liye karte hain."
   ]
  },
  {
   "cell_type": "code",
   "execution_count": 22,
   "id": "b2abc394",
   "metadata": {
    "scrolled": true
   },
   "outputs": [
    {
     "name": "stdout",
     "output_type": "stream",
     "text": [
      "True\n",
      "False\n",
      "False\n",
      "True\n",
      "True\n",
      "False\n",
      "False\n",
      "True\n"
     ]
    }
   ],
   "source": [
    "x = 4\n",
    "y = 2\n",
    "\n",
    "print(x>y)  # Greater Than : agar x bada hoga y se to true print hoga nahi to false hoga\n",
    "print(x<y)  # Smaller Than : agar x chota hoga y se to true print hoga nahi to false hoga\n",
    "print(x==y)  # Equal to : agar x bara bar hoga y se to true print hoga nahi to false hoga\n",
    "print(x!=y)  # Not Equal to : agar x bara bar nahi hoga y se to true print hoga nahi to false hoga.\n",
    "print(x>=y)  # Greater than Equal to : agar x bada ya to bara bar hoga y se to true print hoga nahi to false hoga.\n",
    "print(x<=y)  # Less than Equal to : agar x chota ya bara bar hoga y se to true print hoga nahi to false hoga.\n",
    "print(x is y)  # Is : agar x bara bar hoga y se to true print hoga nahi to false hoga.\n",
    "print(x is not y)  # Is not : agar x bara bar hoga y se to true print hoga nahi to false hoga"
   ]
  },
  {
   "cell_type": "markdown",
   "id": "ce37fa8e",
   "metadata": {},
   "source": [
    "## Logical Operators\n",
    "\n",
    "Logical Operator ko humlog 2 ya 2 se jyada condition ko ek sath combine karne ke liye istemaal karte hain.  \n",
    " E.g :-  \n",
    " \n",
    "1. AND\n",
    "2. OR\n",
    "3. NOT\n",
    "\n",
    "**Note :-** Is operator ko padhne se pahle jaruri hai ki aap condition kya hota hai samjhe.\n",
    "To Chaliye condition ko samjhte hain kya hota hain.\n"
   ]
  },
  {
   "cell_type": "markdown",
   "id": "7acc0372",
   "metadata": {},
   "source": [
    "#### Condition / Flow control in Python\n",
    "\n",
    "Jaise ki real life  me humlog kuch decision lete hain or us decision ke anusar agla kaam karte hain.\n",
    "Theek usi tarah pyhton me bhi humlog kuch decision ke aadhar par kaam karne ke liye conditional statement ka istemaal karte hain.  \n",
    "If - Elif - Else statement ko Python me control statement bolte hain.\n",
    "ise kaise use karte hain chaliye ek program se samjhte hain."
   ]
  },
  {
   "cell_type": "code",
   "execution_count": null,
   "id": "5704523e",
   "metadata": {},
   "outputs": [],
   "source": []
  },
  {
   "cell_type": "markdown",
   "id": "5a894b33",
   "metadata": {},
   "source": [
    ">\tGreater than: True if the left operand is greater than the right\tx > y\n",
    "<\tLess than: True if the left operand is less than the right\tx < y\n",
    "==\tEqual to: True if both operands are equal\tx == y\n",
    "!=\tNot equal to – True if operands are not equal\tx != y\n",
    ">=\tGreater than or equal to True if the left operand is greater than or equal to the right\tx >= y\n",
    "<=\tLess than or equal to True if the left operand is less than or equal to the right\tx <= y\n",
    "is \tx is the same as y\tx is y\n",
    "is not\tx is not the same as y\tx is not y"
   ]
  }
 ],
 "metadata": {
  "kernelspec": {
   "display_name": "Python 3 (ipykernel)",
   "language": "python",
   "name": "python3"
  },
  "language_info": {
   "codemirror_mode": {
    "name": "ipython",
    "version": 3
   },
   "file_extension": ".py",
   "mimetype": "text/x-python",
   "name": "python",
   "nbconvert_exporter": "python",
   "pygments_lexer": "ipython3",
   "version": "3.7.6"
  }
 },
 "nbformat": 4,
 "nbformat_minor": 5
}
